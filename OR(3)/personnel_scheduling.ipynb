{
 "cells": [
  {
   "cell_type": "code",
   "execution_count": 1,
   "metadata": {},
   "outputs": [],
   "source": [
    "from gurobipy import *\n",
    "import pandas as pd"
   ]
  },
  {
   "cell_type": "code",
   "execution_count": 2,
   "metadata": {},
   "outputs": [
    {
     "name": "stdout",
     "output_type": "stream",
     "text": [
      "  weekday  people_needed\n",
      "0     Mon            110\n",
      "1     Tue             80\n",
      "2     Wed            150\n",
      "3     Thu             30\n",
      "4     Fri             70\n",
      "5     Sat            160\n",
      "6     Sun            120\n"
     ]
    }
   ],
   "source": [
    "personnel_con = pd.read_excel('personnel_scheduling.xlsx', 'people_needed')\n",
    "print(personnel_con)"
   ]
  },
  {
   "cell_type": "code",
   "execution_count": 3,
   "metadata": {},
   "outputs": [],
   "source": [
    "def personnel_scheduling_example(constraints = personnel_con['people_needed']):\n",
    "\n",
    "    \"\"\"Data Part\"\"\"\n",
    "\n",
    "    people = range(7)  # 7 numbers of people work in each day of a week\n",
    "    days = range(7)  # 7 days in a week \n",
    "\n",
    "    day_limitations = constraints\n",
    "\n",
    "\n",
    "    \"\"\"Model Part\"\"\"\n",
    "\n",
    "    eg2 = Model(\"personnel_scheduling\")\n",
    "    \n",
    "    # add variables\n",
    "    x = []\n",
    "    for i in people:\n",
    "        x.append(eg2.addVar(lb = 0, vtype = GRB.CONTINUOUS, name = 'x' + str(i)))\n",
    "    \n",
    "    # set objective value\n",
    "    eg2.setObjective(quicksum(x[i] for i in people), GRB.MINIMIZE) \n",
    "\n",
    "    # add constraints and name them\n",
    "    eg2.addConstrs((quicksum(x[i + j - 7] for i in range(3, 8)) \n",
    "                               >= day_limitations[j] for j in days), \"Resource_limitation\")\n",
    "\n",
    "    eg2.optimize()\n",
    "\n",
    "    for var in eg2.getVars():\n",
    "        print(var.varName, '=', round(var.x, 2))\n",
    "    print(\"objective value =\", round(eg2.objVal, 2))\n",
    "    \n",
    "    return eg2"
   ]
  },
  {
   "cell_type": "code",
   "execution_count": 4,
   "metadata": {},
   "outputs": [
    {
     "name": "stdout",
     "output_type": "stream",
     "text": [
      "Set parameter Username\n",
      "Gurobi Optimizer version 9.5.1 build v9.5.1rc2 (win64)\n",
      "Thread count: 4 physical cores, 8 logical processors, using up to 8 threads\n",
      "Optimize a model with 7 rows, 7 columns and 35 nonzeros\n",
      "Model fingerprint: 0xa040a86d\n",
      "Coefficient statistics:\n",
      "  Matrix range     [1e+00, 1e+00]\n",
      "  Objective range  [1e+00, 1e+00]\n",
      "  Bounds range     [0e+00, 0e+00]\n",
      "  RHS range        [3e+01, 2e+02]\n",
      "Presolve time: 0.00s\n",
      "Presolved: 7 rows, 7 columns, 35 nonzeros\n",
      "\n",
      "Iteration    Objective       Primal Inf.    Dual Inf.      Time\n",
      "       0    0.0000000e+00   7.200000e+02   0.000000e+00      0s\n",
      "       5    1.6333333e+02   0.000000e+00   0.000000e+00      0s\n",
      "\n",
      "Solved in 5 iterations and 0.01 seconds (0.00 work units)\n",
      "Optimal objective  1.633333333e+02\n",
      "x0 = 3.33\n",
      "x1 = 40.0\n",
      "x2 = 13.33\n",
      "x3 = 13.33\n",
      "x4 = 0.0\n",
      "x5 = 93.33\n",
      "x6 = 0.0\n",
      "objective value = 163.33\n"
     ]
    }
   ],
   "source": [
    "origin_model2 = personnel_scheduling_example()"
   ]
  },
  {
   "cell_type": "code",
   "execution_count": 6,
   "metadata": {},
   "outputs": [
    {
     "name": "stdout",
     "output_type": "stream",
     "text": [
      "Resource_limitation[0]: 0.33333333333333337\n",
      "Resource_limitation[1]: 0.0\n",
      "Resource_limitation[2]: 0.33333333333333337\n",
      "Resource_limitation[3]: 0.0\n",
      "Resource_limitation[4]: 0.3333333333333333\n",
      "Resource_limitation[5]: 0.33333333333333337\n",
      "Resource_limitation[6]: 0.0\n"
     ]
    }
   ],
   "source": [
    "for c in origin_model2.getConstrs():\n",
    "    print(f\"{c.ConstrName}: {c.Pi}\")"
   ]
  },
  {
   "cell_type": "code",
   "execution_count": null,
   "metadata": {},
   "outputs": [],
   "source": []
  }
 ],
 "metadata": {
  "kernelspec": {
   "display_name": "Python 3.9.7 ('optim')",
   "language": "python",
   "name": "python3"
  },
  "language_info": {
   "codemirror_mode": {
    "name": "ipython",
    "version": 3
   },
   "file_extension": ".py",
   "mimetype": "text/x-python",
   "name": "python",
   "nbconvert_exporter": "python",
   "pygments_lexer": "ipython3",
   "version": "3.9.7"
  },
  "orig_nbformat": 4,
  "vscode": {
   "interpreter": {
    "hash": "b3c7d1582439b9a09ea60a71a5b9f7bfe5447b94a555f55d09151c0f8501617c"
   }
  }
 },
 "nbformat": 4,
 "nbformat_minor": 2
}
