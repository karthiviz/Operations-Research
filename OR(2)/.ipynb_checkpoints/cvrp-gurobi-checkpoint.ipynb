{
 "cells": [
  {
   "cell_type": "markdown",
   "metadata": {},
   "source": [
    "# Capacitated Vehicle Routing Problem\n",
    "\n",
    "<img src=\"http://neo.lcc.uma.es/dynamic/images/vrp.png\" width=\"400\" />\n",
    "\n",
    "- $n$ is the number of clientes\n",
    "- $N$ is set of clients, with $N=\\{1,2,...,n\\}$\n",
    "- $V$ is set of vetices (or nodes), with $V=\\{0\\}\\cup N$\n",
    "- $A$ is set of arcs, with $A=\\{(i,j)\\in V^2 : i\\neq j\\}$\n",
    "- $c_{ij}$ is cost of travel over arc $(i,j)\\in A$\n",
    "- $Q$ is the vehicle capacity\n",
    "- $q_i$ is the amount that has to be delivered to customer $i\\in N$\n",
    "\n",
    "Then, the formulation is the following\n",
    "$$\\begin{align}\n",
    "\\min \\quad & \\sum_{i,j\\in A} c_{ij} x_{ij} \\\\\n",
    "\\text{s.t.} \\quad & \\sum_{j\\in V , j\\neq i} x_{ij} = 1  && i \\in N \\\\\n",
    "& \\sum_{i\\in V , i\\neq j} x_{ij} = 1 && j \\in N \\\\\n",
    "& \\text{if} \\ x_{ij}=1 \\ \\Rightarrow \\ u_i + q_j = u_j && i,j \\in A : j\\neq 0, i\\neq 0 \\\\\n",
    "& q_i \\leq u_i \\leq Q && i \\in N \\\\\n",
    "& x_{ij} \\in \\{0,1\\} && i,j \\in A\n",
    "\\end{align}$$"
   ]
  },
  {
   "cell_type": "code",
   "execution_count": 1,
   "metadata": {},
   "outputs": [],
   "source": [
    "import numpy as np\n",
    "import matplotlib.pyplot as plt"
   ]
  },
  {
   "cell_type": "code",
   "execution_count": 2,
   "metadata": {},
   "outputs": [],
   "source": [
    "rnd = np.random\n",
    "rnd.seed(4)"
   ]
  },
  {
   "cell_type": "code",
   "execution_count": 3,
   "metadata": {},
   "outputs": [],
   "source": [
    "n = 20  # numbre of clients\n",
    "xc = rnd.rand(n+1)*200\n",
    "yc = rnd.rand(n+1)*100"
   ]
  },
  {
   "cell_type": "code",
   "execution_count": 4,
   "metadata": {},
   "outputs": [
    {
     "data": {
      "text/plain": [
       "<matplotlib.collections.PathCollection at 0x1d15187fdf0>"
      ]
     },
     "execution_count": 4,
     "metadata": {},
     "output_type": "execute_result"
    },
    {
     "data": {
      "image/png": "[encoded data removed]",
      "text/plain": [
       "<Figure size 432x288 with 1 Axes>"
      ]
     },
     "metadata": {
      "needs_background": "light"
     },
     "output_type": "display_data"
    }
   ],
   "source": [
    "plt.plot(xc[0], yc[0], c='r', marker='s')\n",
    "plt.scatter(xc[1:], yc[1:], c='b')"
   ]
  },
  {
   "cell_type": "code",
   "execution_count": 5,
   "metadata": {},
   "outputs": [],
   "source": [
    "N = [i for i in range(1, n+1)]\n",
    "V = [0] + N\n",
    "A = [(i, j) for i in V for j in V if i != j]\n",
    "c = {(i, j): np.hypot(xc[i]-xc[j], yc[i]-yc[j]) for i, j in A}\n",
    "Q = 20\n",
    "q = {i: rnd.randint(1, 10) for i in N}"
   ]
  },
  {
   "cell_type": "code",
   "execution_count": 6,
   "metadata": {},
   "outputs": [],
   "source": [
    "from gurobipy import Model, GRB, quicksum"
   ]
  },
  {
   "cell_type": "code",
   "execution_count": 7,
   "metadata": {},
   "outputs": [
    {
     "name": "stdout",
     "output_type": "stream",
     "text": [
      "Set parameter Username\n"
     ]
    }
   ],
   "source": [
    "mdl = Model('CVRP')"
   ]
  },
  {
   "cell_type": "code",
   "execution_count": 8,
   "metadata": {},
   "outputs": [],
   "source": [
    "x = mdl.addVars(A, vtype=GRB.BINARY)\n",
    "u = mdl.addVars(N, vtype=GRB.CONTINUOUS)"
   ]
  },
  {
   "cell_type": "code",
   "execution_count": 9,
   "metadata": {},
   "outputs": [],
   "source": [
    "mdl.modelSense = GRB.MINIMIZE\n",
    "mdl.setObjective(quicksum(x[i, j]*c[i, j] for i, j in A))"
   ]
  },
  {
   "cell_type": "code",
   "execution_count": 10,
   "metadata": {},
   "outputs": [],
   "source": [
    "mdl.addConstrs(quicksum(x[i, j] for j in V if j != i) == 1 for i in N);\n",
    "mdl.addConstrs(quicksum(x[i, j] for i in V if i != j) == 1 for j in N);\n",
    "mdl.addConstrs((x[i, j] == 1) >> (u[i]+q[j] == u[j])\n",
    "               for i, j in A if i != 0 and j != 0);\n",
    "mdl.addConstrs(u[i] >= q[i] for i in N);\n",
    "mdl.addConstrs(u[i] <= Q for i in N);"
   ]
  },
  {
   "cell_type": "code",
   "execution_count": 11,
   "metadata": {
    "scrolled": false
   },
   "outputs": [
    {
     "name": "stdout",
     "output_type": "stream",
     "text": [
      "Set parameter MIPGap to value 0.1\n",
      "Set parameter TimeLimit to value 30\n",
      "Gurobi Optimizer version 9.5.1 build v9.5.1rc2 (win64)\n",
      "Thread count: 4 physical cores, 8 logical processors, using up to 8 threads\n",
      "Optimize a model with 80 rows, 440 columns and 840 nonzeros\n",
      "Model fingerprint: 0x85212bbf\n",
      "Model has 380 general constraints\n",
      "Variable types: 20 continuous, 420 integer (420 binary)\n",
      "Coefficient statistics:\n",
      "  Matrix range     [1e+00, 1e+00]\n",
      "  Objective range  [2e+00, 2e+02]\n",
      "  Bounds range     [1e+00, 1e+00]\n",
      "  RHS range        [1e+00, 2e+01]\n",
      "  GenCon rhs range [1e+00, 9e+00]\n",
      "  GenCon coe range [1e+00, 1e+00]\n",
      "Presolve added 754 rows and 112 columns\n",
      "Presolve time: 0.05s\n",
      "Presolved: 834 rows, 552 columns, 5624 nonzeros\n",
      "Variable types: 132 continuous, 420 integer (420 binary)\n",
      "Found heuristic solution: objective 4543.0790237\n",
      "\n",
      "Root relaxation: objective 4.075382e+02, 142 iterations, 0.00 seconds (0.00 work units)\n",
      "\n",
      "    Nodes    |    Current Node    |     Objective Bounds      |     Work\n",
      " Expl Unexpl |  Obj  Depth IntInf | Incumbent    BestBd   Gap | It/Node Time\n",
      "\n",
      "     0     0  407.53820    0   51 4543.07902  407.53820  91.0%     -    0s\n",
      "H    0     0                    4382.3173962  407.53820  90.7%     -    0s\n",
      "H    0     0                    2224.6099625  407.53820  81.7%     -    0s\n",
      "H    0     0                    2218.2849659  407.53820  81.6%     -    0s\n",
      "H    0     0                    2100.5363617  483.81188  77.0%     -    0s\n",
      "     0     0  483.81188    0   40 2100.53636  483.81188  77.0%     -    0s\n",
      "H    0     0                    2024.8170658  483.81188  76.1%     -    0s\n",
      "     0     0  483.85036    0   38 2024.81707  483.85036  76.1%     -    0s\n",
      "     0     0  494.78141    0   49 2024.81707  494.78141  75.6%     -    0s\n",
      "H    0     0                    1977.4435995  494.78141  75.0%     -    0s\n",
      "H    0     0                    1663.8249376  494.78141  70.3%     -    0s\n",
      "     0     0  497.11695    0   46 1663.82494  497.11695  70.1%     -    0s\n",
      "     0     0  497.13366    0   46 1663.82494  497.13366  70.1%     -    0s\n",
      "     0     0  497.28743    0   53 1663.82494  497.28743  70.1%     -    0s\n",
      "     0     0  497.28743    0   53 1663.82494  497.28743  70.1%     -    0s\n",
      "     0     0  503.61240    0   53 1663.82494  503.61240  69.7%     -    0s\n",
      "     0     0  505.89801    0   59 1663.82494  505.89801  69.6%     -    0s\n",
      "     0     0  506.00717    0   63 1663.82494  506.00717  69.6%     -    0s\n",
      "     0     0  506.03079    0   63 1663.82494  506.03079  69.6%     -    0s\n",
      "     0     0  506.04926    0   63 1663.82494  506.04926  69.6%     -    0s\n",
      "     0     0  509.82210    0   64 1663.82494  509.82210  69.4%     -    0s\n",
      "     0     0  512.17681    0   70 1663.82494  512.17681  69.2%     -    0s\n",
      "     0     0  513.64370    0   67 1663.82494  513.64370  69.1%     -    0s\n",
      "     0     0  513.64821    0   72 1663.82494  513.64821  69.1%     -    0s\n",
      "     0     0  520.96814    0   61 1663.82494  520.96814  68.7%     -    0s\n",
      "     0     0  521.13492    0   62 1663.82494  521.13492  68.7%     -    0s\n",
      "     0     0  521.14135    0   65 1663.82494  521.14135  68.7%     -    0s\n",
      "     0     0  521.55096    0   66 1663.82494  521.55096  68.7%     -    0s\n",
      "     0     0  521.60993    0   67 1663.82494  521.60993  68.6%     -    0s\n",
      "     0     0  521.60993    0   67 1663.82494  521.60993  68.6%     -    0s\n",
      "     0     0  528.94578    0   70 1663.82494  528.94578  68.2%     -    0s\n",
      "     0     0  528.94578    0   70 1663.82494  528.94578  68.2%     -    0s\n",
      "     0     0  529.46582    0   76 1663.82494  529.46582  68.2%     -    0s\n",
      "     0     0  529.68458    0   77 1663.82494  529.68458  68.2%     -    0s\n",
      "     0     0  529.68762    0   77 1663.82494  529.68762  68.2%     -    0s\n",
      "     0     0  530.30060    0   76 1663.82494  530.30060  68.1%     -    0s\n",
      "     0     0  530.68531    0   74 1663.82494  530.68531  68.1%     -    0s\n",
      "     0     0  531.00020    0   77 1663.82494  531.00020  68.1%     -    0s\n",
      "     0     0  531.00823    0   75 1663.82494  531.00823  68.1%     -    0s\n",
      "     0     0  532.11968    0   69 1663.82494  532.11968  68.0%     -    0s\n",
      "     0     0  532.47847    0   67 1663.82494  532.47847  68.0%     -    0s\n",
      "     0     0  532.51067    0   72 1663.82494  532.51067  68.0%     -    0s\n",
      "     0     0  533.62443    0   74 1663.82494  533.62443  67.9%     -    0s\n",
      "     0     0  533.89381    0   75 1663.82494  533.89381  67.9%     -    0s\n",
      "     0     0  533.96409    0   78 1663.82494  533.96409  67.9%     -    0s\n",
      "     0     0  533.96496    0   78 1663.82494  533.96496  67.9%     -    0s\n",
      "     0     0  534.91196    0   73 1663.82494  534.91196  67.9%     -    0s\n",
      "     0     0  535.44690    0   73 1663.82494  535.44690  67.8%     -    0s\n",
      "     0     0  535.45302    0   73 1663.82494  535.45302  67.8%     -    0s\n",
      "     0     0  535.45480    0   80 1663.82494  535.45480  67.8%     -    0s\n",
      "     0     0  535.45480    0   81 1663.82494  535.45480  67.8%     -    0s\n",
      "     0     0  535.73617    0   75 1663.82494  535.73617  67.8%     -    0s\n",
      "     0     0  535.91518    0   76 1663.82494  535.91518  67.8%     -    0s\n",
      "     0     0  535.91694    0   76 1663.82494  535.91694  67.8%     -    0s\n",
      "     0     0  535.93554    0   77 1663.82494  535.93554  67.8%     -    0s\n",
      "     0     0  535.93554    0   77 1663.82494  535.93554  67.8%     -    0s\n",
      "     0     2  545.33188    0   74 1663.82494  545.33188  67.2%     -    0s\n",
      "H  118   137                    1651.7138428  547.41105  66.9%  30.6    1s\n",
      "H  203   217                    1649.2722006  547.41105  66.8%  29.0    1s\n",
      "H  248   250                    1649.1464913  547.41105  66.8%  27.3    1s\n",
      "H  442   440                    1645.1725985  547.41105  66.7%  23.4    1s\n",
      "  1092  1018 1244.56905  103  102 1645.17260  615.18983  62.6%  24.7    5s\n",
      "  1133  1046 1527.69853   61   98 1645.17260  630.56119  61.7%  26.8   10s\n",
      "  1326  1184  983.81390   38   64 1645.17260  647.20766  60.7%  36.3   15s\n",
      "H 1394  1170                    1635.5829866  647.20766  60.4%  39.0   15s\n",
      "  3187  2172 1094.85832   82   48 1635.58299  654.40262  60.0%  46.8   20s\n",
      "  7891  5771 1212.32525   72   26 1635.58299  732.91280  55.2%  44.6   25s\n",
      " 12426  9470 1003.95912   77   54 1635.58299  748.90106  54.2%  42.1   30s\n",
      "\n",
      "Cutting planes:\n",
      "  Learned: 9\n",
      "  Gomory: 1\n",
      "  Cover: 18\n",
      "  Implied bound: 18\n",
      "  Projected implied bound: 8\n",
      "  Clique: 3\n",
      "  MIR: 44\n",
      "  StrongCG: 2\n",
      "  Flow cover: 136\n",
      "  GUB cover: 5\n",
      "  Zero half: 22\n",
      "  RLT: 6\n",
      "  Relax-and-lift: 13\n",
      "\n",
      "Explored 12557 nodes (529380 simplex iterations) in 30.04 seconds (16.40 work units)\n",
      "Thread count was 8 (of 8 available processors)\n",
      "\n",
      "Solution count 10: 1635.58 1645.17 1649.15 ... 2218.28\n",
      "\n",
      "Time limit reached\n",
      "Best objective 1.635582986601e+03, best bound 7.489010600596e+02, gap 54.2120%\n"
     ]
    }
   ],
   "source": [
    "mdl.Params.MIPGap = 0.1\n",
    "mdl.Params.TimeLimit = 30  # seconds\n",
    "mdl.optimize()"
   ]
  },
  {
   "cell_type": "code",
   "execution_count": 12,
   "metadata": {},
   "outputs": [],
   "source": [
    "active_arcs = [a for a in A if x[a].x > 0.99]"
   ]
  },
  {
   "cell_type": "code",
   "execution_count": 13,
   "metadata": {},
   "outputs": [
    {
     "data": {
      "text/plain": [
       "<matplotlib.collections.PathCollection at 0x1d151abdeb0>"
      ]
     },
     "execution_count": 13,
     "metadata": {},
     "output_type": "execute_result"
    },
    {
     "data": {
      "image/png": "[encoded data removed]",
      "text/plain": [
       "<Figure size 432x288 with 1 Axes>"
      ]
     },
     "metadata": {
      "needs_background": "light"
     },
     "output_type": "display_data"
    }
   ],
   "source": [
    "for i, j in active_arcs:\n",
    "    plt.plot([xc[i], xc[j]], [yc[i], yc[j]], c='g', zorder=0)\n",
    "plt.plot(xc[0], yc[0], c='r', marker='s')\n",
    "plt.scatter(xc[1:], yc[1:], c='b')"
   ]
  }
 ],
 "metadata": {
  "kernelspec": {
   "display_name": "Python 3 (ipykernel)",
   "language": "python",
   "name": "python3"
  },
  "language_info": {
   "codemirror_mode": {
    "name": "ipython",
    "version": 3
   },
   "file_extension": ".py",
   "mimetype": "text/x-python",
   "name": "python",
   "nbconvert_exporter": "python",
   "pygments_lexer": "ipython3",
   "version": "3.9.7"
  }
 },
 "nbformat": 4,
 "nbformat_minor": 2
}
